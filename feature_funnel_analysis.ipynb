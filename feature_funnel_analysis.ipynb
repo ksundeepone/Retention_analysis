import pandas as pd
import matplotlib.pyplot as plt
import seaborn as sns

# Load event data
df = pd.read_csv('../data/feature_launch_user_events.csv')

# Count users at each stage
funnel_counts = df['event_type'].value_counts().reindex([
    'feature_click', 'start_party', 'invite_friend', 'complete_party'
])

# Plot funnel
sns.barplot(x=funnel_counts.index, y=funnel_counts.values)
plt.title("Watch Party Feature Funnel")
plt.ylabel("Number of Users")
plt.show()
